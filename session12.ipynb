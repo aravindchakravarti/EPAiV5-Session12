{
 "cells": [
  {
   "cell_type": "code",
   "execution_count": 33,
   "metadata": {},
   "outputs": [
    {
     "ename": "SyntaxError",
     "evalue": "invalid syntax (1582510375.py, line 21)",
     "output_type": "error",
     "traceback": [
      "\u001b[0;36m  Cell \u001b[0;32mIn[33], line 21\u001b[0;36m\u001b[0m\n\u001b[0;31m    data.Plate_ID =\u001b[0m\n\u001b[0m                    ^\u001b[0m\n\u001b[0;31mSyntaxError\u001b[0m\u001b[0;31m:\u001b[0m invalid syntax\n"
     ]
    }
   ],
   "source": [
    "from collections import namedtuple\n",
    "\n",
    "f = open(\"nyc_parking_tickets_extract-1.csv\", \"r\")\n",
    "data_header = f.readline().strip().split(',')\n",
    "\n",
    "# Create a namedtuple with the header fields\n",
    "data = namedtuple('data', data_header)\n",
    "count = 0\n",
    "\n",
    "with open('nyc_parking_tickets_extract-1.csv') as f:\n",
    "    header_info = next(f).split(',')\n",
    "\n",
    "    for row in f:\n",
    "        count = count + 1\n",
    "\n",
    "        if count > 10:\n",
    "            break\n",
    "\n",
    "        # sum_num, plate_id, reg_state, plate_type, issue_date, vol_code, veh\n",
    "        row_data = row.split(',')\n",
    "        data.Summons_Number = map(int, row_data[0])\n",
    "        data.Plate_ID = row"
   ]
  },
  {
   "cell_type": "code",
   "execution_count": 32,
   "metadata": {},
   "outputs": [
    {
     "data": {
      "text/plain": [
       "'4007124590'"
      ]
     },
     "execution_count": 32,
     "metadata": {},
     "output_type": "execute_result"
    }
   ],
   "source": [
    "data.Summons_Number "
   ]
  }
 ],
 "metadata": {
  "kernelspec": {
   "display_name": "Python 3",
   "language": "python",
   "name": "python3"
  },
  "language_info": {
   "codemirror_mode": {
    "name": "ipython",
    "version": 3
   },
   "file_extension": ".py",
   "mimetype": "text/x-python",
   "name": "python",
   "nbconvert_exporter": "python",
   "pygments_lexer": "ipython3",
   "version": "3.9.6"
  }
 },
 "nbformat": 4,
 "nbformat_minor": 2
}
